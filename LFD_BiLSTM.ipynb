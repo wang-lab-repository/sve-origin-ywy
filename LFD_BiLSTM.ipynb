{
 "cells": [
  {
   "cell_type": "code",
   "execution_count": 1,
   "id": "8318b993",
   "metadata": {},
   "outputs": [],
   "source": [
    "# pytorch\n",
    "import torch\n",
    "from torch import nn,optim\n",
    "import torch.nn.functional as F\n",
    "from torch.utils.data import Dataset,TensorDataset,DataLoader\n",
    "from torch.utils.data import random_split\n",
    "from torch.optim import lr_scheduler\n",
    "# # 自定义模块\n",
    "# from torchLearning import *\n",
    "import numpy as np\n",
    "import pandas as pd\n",
    "import seaborn as sns\n",
    "import matplotlib.pyplot as plt\n",
    "from sklearn import preprocessing\n",
    "from sklearn.compose import ColumnTransformer\n",
    "from sklearn.preprocessing import StandardScaler\n",
    "from sklearn.model_selection import train_test_split\n",
    "from sklearn.preprocessing import MinMaxScaler\n",
    "from sklearn.preprocessing import Normalizer\n",
    "from sklearn import cluster\n",
    "from sklearn import tree\n",
    "from sklearn.tree import DecisionTreeClassifier\n",
    "from sklearn.metrics import accuracy_score,precision_score,recall_score,f1_score,roc_auc_score,mutual_info_score\n",
    "from sklearn.linear_model import LogisticRegression\n",
    "from sklearn.pipeline import make_pipeline\n",
    "from sklearn.model_selection import GridSearchCV\n",
    "import time\n",
    "from sklearn.base import BaseEstimator, TransformerMixin\n",
    "from sklearn.tree import DecisionTreeClassifier\n",
    "import inspect, re\n",
    "from sklearn.preprocessing import PolynomialFeatures\n",
    "from itertools import product\n",
    "from sklearn.preprocessing import OrdinalEncoder\n",
    "from tqdm import tqdm\n",
    "import gc\n",
    "from sklearn.feature_selection import VarianceThreshold,r_regression,SelectKBest,f_regression,SelectPercentile,chi2,f_classif,mutual_info_regression,mutual_info_classif,RFE,RFECV,SequentialFeatureSelector,SelectFromModel\n",
    "from scipy import stats\n",
    "import scipy\n",
    "import random\n",
    "from scipy.special import digamma\n",
    "from sklearn.impute import SimpleImputer\n",
    "from sklearn.ensemble import RandomForestClassifier\n",
    "from sklearn.model_selection import GridSearchCV,RepeatedKFold,KFold\n",
    "from sklearn.metrics import roc_auc_score as AUC\n",
    "from sklearn.metrics import roc_curve\n",
    "import math\n",
    "\n",
    "# 绘图模块\n",
    "import os\n",
    "os.environ['KMP_DUPLICATE_LIB_OK']='True'\n",
    "import matplotlib as mpl\n",
    "from mpl_toolkits.mplot3d import Axes3D\n",
    "\n",
    "# 导入以下包从而使得可以在jupyter中的一个cell输出多个结果\n",
    "from IPython.core.interactiveshell import InteractiveShell\n",
    "InteractiveShell.ast_node_interactivity = \"all\""
   ]
  },
  {
   "cell_type": "code",
   "execution_count": 2,
   "id": "02eeec4b-7a79-4b0b-9420-519095e99991",
   "metadata": {},
   "outputs": [],
   "source": [
    "X_train = pd.read_csv(\"fff/X_train.csv\")\n",
    "X_test = pd.read_csv(\"fff/X_test.csv\")\n",
    "y_train = pd.read_csv(\"fff/y_train.csv\")\n",
    "y_test = pd.read_csv(\"fff/y_test.csv\")"
   ]
  },
  {
   "cell_type": "code",
   "execution_count": 4,
   "id": "a1c90314-940a-498d-8350-706b071a64a6",
   "metadata": {},
   "outputs": [],
   "source": [
    "class BiLSTM(nn.Module):\n",
    "    def __init__(self, input_size, hidden_size, output_size, sequence_length):\n",
    "        super(BiLSTM, self).__init__()\n",
    "        self.sequence_length = sequence_length\n",
    "        self.hidden_size = hidden_size\n",
    "        self.input_size = input_size\n",
    "        self.bilstm1 = nn.LSTM(input_size, hidden_size, batch_first=True, bidirectional=True)  # 双向LSTM\n",
    "        self.dropout1 = nn.Dropout(0.3)\n",
    "        self.bilstm2 = nn.LSTM(hidden_size * 2, hidden_size, batch_first=True, bidirectional=True)  # 双向LSTM\n",
    "        self.dropout2 = nn.Dropout(0.5)\n",
    "        self.fc = nn.Linear(hidden_size * 2, output_size) \n",
    "        self.relu = nn.ReLU()  # 添加ReLU激活函数\n",
    "    def forward(self, x):\n",
    "        x, _ = self.bilstm1(x)\n",
    "        x = self.relu(x)\n",
    "        x = self.dropout1(x)\n",
    "        x, _ = self.bilstm2(x)\n",
    "        x = self.relu(x)\n",
    "        x = self.dropout2(x)\n",
    "        x = self.fc(x[:, -1, :])  # Get the output from the last time step\n",
    "        x = torch.squeeze(x, 1)  # Squeeze the output to ensure the dimension is (batch_size, output_size)\n",
    "        return x"
   ]
  },
  {
   "cell_type": "code",
   "execution_count": 5,
   "id": "92929387-fda6-4b5f-914e-a65ccec56b26",
   "metadata": {},
   "outputs": [
    {
     "data": {
      "text/plain": [
       "(24444, 1)"
      ]
     },
     "execution_count": 5,
     "metadata": {},
     "output_type": "execute_result"
    }
   ],
   "source": [
    "y_train.shape"
   ]
  },
  {
   "cell_type": "code",
   "execution_count": 6,
   "id": "86feb651-49d0-4a8d-b09b-555ea7fa12af",
   "metadata": {},
   "outputs": [
    {
     "data": {
      "text/plain": [
       "(24444,)"
      ]
     },
     "execution_count": 6,
     "metadata": {},
     "output_type": "execute_result"
    }
   ],
   "source": [
    "y_train = y_train.squeeze()\n",
    "y_test = y_test.squeeze()\n",
    "y_train.shape"
   ]
  },
  {
   "cell_type": "code",
   "execution_count": 7,
   "id": "67bdfcc0-7c99-4f74-9e3b-c49e8d4e9abd",
   "metadata": {},
   "outputs": [
    {
     "name": "stderr",
     "output_type": "stream",
     "text": [
      "Epoch: 100%|███████████████████████████████████████████████████████████████████████████| 50/50 [12:27<00:00, 14.96s/it]"
     ]
    },
    {
     "name": "stdout",
     "output_type": "stream",
     "text": [
      "F1_score: 0.9276, Recall: 0.9356, AUC: 0.9231\n"
     ]
    },
    {
     "name": "stderr",
     "output_type": "stream",
     "text": [
      "\n"
     ]
    }
   ],
   "source": [
    "from torch.utils.data import random_split\n",
    "from torch.utils.data import DataLoader, TensorDataset\n",
    "from sklearn.preprocessing import StandardScaler\n",
    "from sklearn.model_selection import ParameterGrid\n",
    "from sklearn.model_selection import GridSearchCV\n",
    "from sklearn.metrics import accuracy_score, make_scorer\n",
    "from sklearn.metrics import confusion_matrix, classification_report\n",
    "\n",
    "# 特征缩放\n",
    "scaler = StandardScaler()\n",
    "X_scaled = scaler.fit_transform(X_train)\n",
    "X_scaled_test = scaler.transform(X_test)\n",
    "\n",
    "# Convert to tensors\n",
    "X_tensor = torch.tensor(X_scaled, dtype=torch.float32)\n",
    "y_tensor = torch.tensor(y_train.values, dtype=torch.long)  # Assuming the target is categorical\n",
    "# Convert to tensors\n",
    "X_tensor_test = torch.tensor(X_scaled_test, dtype=torch.float32)\n",
    "y_tensor_test = torch.tensor(y_test.values, dtype=torch.long)  # Assuming the target is categorical\n",
    "# Create a dataset\n",
    "train_dataset = TensorDataset(X_tensor, y_tensor)\n",
    "test_dataset = TensorDataset(X_tensor_test, y_tensor_test)\n",
    "\n",
    "criterion = nn.CrossEntropyLoss()\n",
    "\n",
    "# 数据加载\n",
    "train_loader = DataLoader(train_dataset, batch_size=1024, shuffle=True)\n",
    "test_loader = DataLoader(test_dataset, batch_size=1024, shuffle=True)\n",
    "\n",
    "# 定义评估指标\n",
    "scoring = make_scorer(accuracy_score)\n",
    "\n",
    "# 定义参数空间\n",
    "param_grid = {\n",
    "    'hidden_size': [256],\n",
    "    'dropout1': [0.3],\n",
    "    'dropout2': [0.5],\n",
    "    'dropout3': [0.4],\n",
    "    'learning_rate': [0.001]\n",
    "}\n",
    "def calculate_metrics(y_true, y_pred):\n",
    "    f1 = f1_score(y_true, y_pred)\n",
    "    recall = recall_score(y_true, y_pred)\n",
    "    auc = roc_auc_score(y_true, y_pred)\n",
    "    return f1, recall, auc\n",
    "\n",
    "best_f1, best_recall, best_auc = 0, 0, 0\n",
    "best_accuracy = 0\n",
    "accuracy_list = []\n",
    "accuracy_train_list = []\n",
    "best_params = {}\n",
    "\n",
    "for params in ParameterGrid(param_grid):\n",
    "    model = BiLSTM(input_size=X_train.shape[1], hidden_size=params['hidden_size'], \n",
    "                           output_size=2, sequence_length=3)\n",
    "    optimizer = optim.Adam(model.parameters(), lr=params['learning_rate'])\n",
    "    \n",
    "    # 训练模型\n",
    "    num_epochs = 50\n",
    "    for epoch in tqdm(range(num_epochs), desc='Epoch'):\n",
    "        total_train = 0\n",
    "        correct_train = 0\n",
    "        for inputs, labels in train_loader:\n",
    "            optimizer.zero_grad()   \n",
    "            inputs = inputs.unsqueeze(1)\n",
    "            outputs = model(inputs)\n",
    "            loss = criterion(outputs, labels)\n",
    "            loss.backward()\n",
    "            # 梯度裁剪\n",
    "            # nn.utils.clip_grad_norm_(model.parameters(), max_norm=20)  # 设置梯度的最大范数为20\n",
    "            optimizer.step()\n",
    "        _, predicted = torch.max(outputs, 1)\n",
    "        total_train += labels.size(0)  # 累加总样本数\n",
    "        correct_train += (predicted == labels).sum().item()\n",
    "        accuracy_train = 100 * correct_train / total_train \n",
    "        accuracy_train_list.append(accuracy_train)  # 记录准确率\n",
    "        # 评估模型\n",
    "        correct = 0\n",
    "        total = 0\n",
    "        y_true = []\n",
    "        y_pred = []\n",
    "        with torch.no_grad():\n",
    "            for inputs, labels in test_loader:\n",
    "                inputs = inputs.unsqueeze(1)\n",
    "                outputs = model(inputs)\n",
    "                _, predicted = torch.max(outputs, 1)\n",
    "                total += labels.size(0)  # 累加总样本数\n",
    "                \n",
    "                correct += (predicted == labels).sum().item()\n",
    "                y_true.extend(labels.tolist())\n",
    "                y_pred.extend(predicted.tolist())\n",
    "        accuracy = 100 * correct / total \n",
    "        accuracy_list.append(accuracy)  # 记录准确率\n",
    "        f1, recall, auc = calculate_metrics(y_true, y_pred)\n",
    "\n",
    "print(f'F1_score: {f1:.4f}, Recall: {recall:.4f}, AUC: {auc:.4f}')"
   ]
  },
  {
   "cell_type": "code",
   "execution_count": 8,
   "id": "2e2ab99f-b4c4-42b7-9a92-639961709bf4",
   "metadata": {},
   "outputs": [
    {
     "name": "stdout",
     "output_type": "stream",
     "text": [
      "accuracy: 92.37%\n"
     ]
    }
   ],
   "source": [
    "print(f'accuracy: {accuracy:.2f}%')"
   ]
  },
  {
   "cell_type": "code",
   "execution_count": 9,
   "id": "3c771245-57ff-483c-9309-e5ccad82cccb",
   "metadata": {},
   "outputs": [
    {
     "data": {
      "text/plain": [
       "[<matplotlib.lines.Line2D at 0x28b870d8f40>]"
      ]
     },
     "execution_count": 9,
     "metadata": {},
     "output_type": "execute_result"
    },
    {
     "data": {
      "text/plain": [
       "Text(0.5, 1.0, 'Accuracy over Epochs')"
      ]
     },
     "execution_count": 9,
     "metadata": {},
     "output_type": "execute_result"
    },
    {
     "data": {
      "text/plain": [
       "Text(0.5, 0, 'Epoch')"
      ]
     },
     "execution_count": 9,
     "metadata": {},
     "output_type": "execute_result"
    },
    {
     "data": {
      "text/plain": [
       "(75.0, 93.5)"
      ]
     },
     "execution_count": 9,
     "metadata": {},
     "output_type": "execute_result"
    },
    {
     "data": {
      "text/plain": [
       "Text(0, 0.5, 'Accuracy')"
      ]
     },
     "execution_count": 9,
     "metadata": {},
     "output_type": "execute_result"
    },
    {
     "data": {
      "image/png": "[encoded data removed]",
      "text/plain": [
       "<Figure size 640x480 with 1 Axes>"
      ]
     },
     "metadata": {},
     "output_type": "display_data"
    }
   ],
   "source": [
    "# 绘制准确率的epoch图\n",
    "plt.plot(range(1, num_epochs+1), accuracy_list, marker='o')\n",
    "plt.title('Accuracy over Epochs')\n",
    "plt.xlabel('Epoch')\n",
    "plt.ylim(75, 93.5)\n",
    "plt.ylabel('Accuracy')\n",
    "plt.show()"
   ]
  },
  {
   "cell_type": "code",
   "execution_count": 10,
   "id": "27f9ed1a-af23-472f-9771-102ef640cb6c",
   "metadata": {},
   "outputs": [
    {
     "name": "stderr",
     "output_type": "stream",
     "text": [
      "Epoch: 100%|█████████████████████████████████████████████████████████████████████████| 200/200 [54:55<00:00, 16.48s/it]\n"
     ]
    },
    {
     "name": "stdout",
     "output_type": "stream",
     "text": [
      "F1_score: 0.9296, Recall: 0.9390, AUC: 0.9251\n"
     ]
    }
   ],
   "source": [
    "from torch.utils.data import random_split\n",
    "from torch.utils.data import DataLoader, TensorDataset\n",
    "from sklearn.preprocessing import StandardScaler\n",
    "from sklearn.model_selection import ParameterGrid\n",
    "from sklearn.model_selection import GridSearchCV\n",
    "from sklearn.metrics import accuracy_score, make_scorer\n",
    "from sklearn.metrics import confusion_matrix, classification_report\n",
    "\n",
    "# 特征缩放\n",
    "scaler = StandardScaler()\n",
    "X_scaled = scaler.fit_transform(X_train)\n",
    "X_scaled_test = scaler.transform(X_test)\n",
    "\n",
    "# Convert to tensors\n",
    "X_tensor = torch.tensor(X_scaled, dtype=torch.float32)\n",
    "y_tensor = torch.tensor(y_train.values, dtype=torch.long)  # Assuming the target is categorical\n",
    "# Convert to tensors\n",
    "X_tensor_test = torch.tensor(X_scaled_test, dtype=torch.float32)\n",
    "y_tensor_test = torch.tensor(y_test.values, dtype=torch.long)  # Assuming the target is categorical\n",
    "# Create a dataset\n",
    "train_dataset = TensorDataset(X_tensor, y_tensor)\n",
    "test_dataset = TensorDataset(X_tensor_test, y_tensor_test)\n",
    "\n",
    "criterion = nn.CrossEntropyLoss()\n",
    "\n",
    "# 数据加载\n",
    "train_loader = DataLoader(train_dataset, batch_size=1024, shuffle=True)\n",
    "test_loader = DataLoader(test_dataset, batch_size=1024, shuffle=True)\n",
    "\n",
    "# 定义评估指标\n",
    "scoring = make_scorer(accuracy_score)\n",
    "\n",
    "# 定义参数空间\n",
    "param_grid = {\n",
    "    'hidden_size': [256],\n",
    "    'dropout1': [0.3],\n",
    "    'dropout2': [0.5],\n",
    "    'dropout3': [0.4],\n",
    "    'learning_rate': [0.001]\n",
    "}\n",
    "def calculate_metrics(y_true, y_pred):\n",
    "    f1 = f1_score(y_true, y_pred)\n",
    "    recall = recall_score(y_true, y_pred)\n",
    "    auc = roc_auc_score(y_true, y_pred)\n",
    "    return f1, recall, auc\n",
    "\n",
    "best_f1, best_recall, best_auc = 0, 0, 0\n",
    "best_accuracy = 0\n",
    "accuracy_list = []\n",
    "accuracy_train_list = []\n",
    "best_params = {}\n",
    "\n",
    "for params in ParameterGrid(param_grid):\n",
    "    model = BiLSTM(input_size=X_train.shape[1], hidden_size=params['hidden_size'], \n",
    "                           output_size=2, sequence_length=3)\n",
    "    optimizer = optim.Adam(model.parameters(), lr=params['learning_rate'])\n",
    "    \n",
    "    # 训练模型\n",
    "    num_epochs = 200\n",
    "    for epoch in tqdm(range(num_epochs), desc='Epoch'):\n",
    "        total_train = 0\n",
    "        correct_train = 0\n",
    "        for inputs, labels in train_loader:\n",
    "            optimizer.zero_grad()   \n",
    "            inputs = inputs.unsqueeze(1)\n",
    "            outputs = model(inputs)\n",
    "            loss = criterion(outputs, labels)\n",
    "            loss.backward()\n",
    "            # 梯度裁剪\n",
    "            # nn.utils.clip_grad_norm_(model.parameters(), max_norm=20)  # 设置梯度的最大范数为20\n",
    "            optimizer.step()\n",
    "        _, predicted = torch.max(outputs, 1)\n",
    "        total_train += labels.size(0)  # 累加总样本数\n",
    "        correct_train += (predicted == labels).sum().item()\n",
    "        accuracy_train = 100 * correct_train / total_train \n",
    "        accuracy_train_list.append(accuracy_train)  # 记录准确率\n",
    "        # 评估模型\n",
    "        correct = 0\n",
    "        total = 0\n",
    "        y_true = []\n",
    "        y_pred = []\n",
    "        with torch.no_grad():\n",
    "            for inputs, labels in test_loader:\n",
    "                inputs = inputs.unsqueeze(1)\n",
    "                outputs = model(inputs)\n",
    "                _, predicted = torch.max(outputs, 1)\n",
    "                total += labels.size(0)  # 累加总样本数\n",
    "                \n",
    "                correct += (predicted == labels).sum().item()\n",
    "                y_true.extend(labels.tolist())\n",
    "                y_pred.extend(predicted.tolist())\n",
    "        accuracy = 100 * correct / total \n",
    "        accuracy_list.append(accuracy)  # 记录准确率\n",
    "        f1, recall, auc = calculate_metrics(y_true, y_pred)\n",
    "print(f'F1_score: {f1:.4f}, Recall: {recall:.4f}, AUC: {auc:.4f}')"
   ]
  },
  {
   "cell_type": "code",
   "execution_count": 11,
   "id": "acb8dbf4-b7e2-4666-b384-b83b02e3736e",
   "metadata": {},
   "outputs": [
    {
     "name": "stdout",
     "output_type": "stream",
     "text": [
      "accuracy: 92.57%\n"
     ]
    }
   ],
   "source": [
    "print(f'accuracy: {accuracy:.2f}%')"
   ]
  },
  {
   "cell_type": "code",
   "execution_count": null,
   "id": "cecbf8a3",
   "metadata": {},
   "outputs": [],
   "source": []
  },
  {
   "cell_type": "code",
   "execution_count": null,
   "id": "77a05e75-6afc-468a-95f0-91f72f59e0d0",
   "metadata": {},
   "outputs": [],
   "source": []
  }
 ],
 "metadata": {
  "kernelspec": {
   "display_name": "Python 3 (ipykernel)",
   "language": "python",
   "name": "python3"
  },
  "language_info": {
   "codemirror_mode": {
    "name": "ipython",
    "version": 3
   },
   "file_extension": ".py",
   "mimetype": "text/x-python",
   "name": "python",
   "nbconvert_exporter": "python",
   "pygments_lexer": "ipython3",
   "version": "3.8.19"
  }
 },
 "nbformat": 4,
 "nbformat_minor": 5
}
